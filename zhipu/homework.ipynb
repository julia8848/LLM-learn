{
 "cells": [
  {
   "cell_type": "markdown",
   "id": "697a41db-cf86-42ea-94f6-dc597e20f0a0",
   "metadata": {},
   "source": [
    "使用官方提供的示例，成功微调出广告数据集，要求使用 Lora 进行微调：\n",
    "\n",
    "1. 你能看到 loss 的下降，并在最终回到 3.2 左右。\n",
    "2. 你需要自己适配 inference.py 中的代码，并迁移到其他的推理框架中。例如，basic_demo 中没有读取微调模型后的 adapter 的内容，你需要参考 inference.py 的代码并进行修改，让其他 demo 能读入你的微调代码，将其部署到 basic_demo 下的 gradio_demo 中，并能够通过 webui 来进行调用。"
   ]
  },
  {
   "cell_type": "markdown",
   "id": "b76c5c8e-2fbd-4091-8f37-e6120e98f086",
   "metadata": {},
   "source": [
    "占位：TBD in 24 hours"
   ]
  },
  {
   "cell_type": "code",
   "execution_count": null,
   "id": "8fc71ce3-859d-43c5-aa23-edc816462018",
   "metadata": {},
   "outputs": [],
   "source": []
  }
 ],
 "metadata": {
  "kernelspec": {
   "display_name": "Python 3 (ipykernel)",
   "language": "python",
   "name": "python3"
  },
  "language_info": {
   "codemirror_mode": {
    "name": "ipython",
    "version": 3
   },
   "file_extension": ".py",
   "mimetype": "text/x-python",
   "name": "python",
   "nbconvert_exporter": "python",
   "pygments_lexer": "ipython3",
   "version": "3.10.14"
  }
 },
 "nbformat": 4,
 "nbformat_minor": 5
}
