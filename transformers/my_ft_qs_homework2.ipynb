{
 "cells": [
  {
   "cell_type": "markdown",
   "id": "82901df9-c401-44ec-84f3-86a3f6195b77",
   "metadata": {},
   "source": [
    "# Hugging Face Transformers 微调训练入门"
   ]
  },
  {
   "cell_type": "markdown",
   "id": "76f64f9f-9b2a-441c-bbe9-ddeb21a1ed0c",
   "metadata": {},
   "source": [
    "## Homework: 使用完整的 YelpReviewFull 数据集训练，看 Acc 最高能到多少\n",
    "完整训练集训练3个epoch, save_strategy=\"steps\", save_steps=\"500\", save_total_limit=\"10\", logging_steps=\"500\""
   ]
  },
  {
   "cell_type": "markdown",
   "id": "43afdf93-3ecf-4a18-8086-ebac517d605d",
   "metadata": {},
   "source": [
    "### 下载/加载数据集"
   ]
  },
  {
   "cell_type": "code",
   "execution_count": 1,
   "id": "00abdb68-2eef-4582-ac3e-4409e68669fb",
   "metadata": {},
   "outputs": [],
   "source": [
    "# 下载/加载数据集\n",
    "from datasets import load_dataset\n",
    "\n",
    "dataset = load_dataset(\"yelp_review_full\")"
   ]
  },
  {
   "cell_type": "markdown",
   "id": "39b4f758-2648-499e-9928-678664221f50",
   "metadata": {},
   "source": [
    "### 预处理数据"
   ]
  },
  {
   "cell_type": "code",
   "execution_count": 2,
   "id": "ecd033e2-ed8e-421d-a0b7-4fd89cfba500",
   "metadata": {},
   "outputs": [
    {
     "name": "stderr",
     "output_type": "stream",
     "text": [
      "/root/miniconda3/envs/peft/lib/python3.10/site-packages/huggingface_hub/file_download.py:1132: FutureWarning: `resume_download` is deprecated and will be removed in version 1.0.0. Downloads always resume when possible. If you want to force a new download, use `force_download=True`.\n",
      "  warnings.warn(\n"
     ]
    }
   ],
   "source": [
    "# 预处理数据\n",
    "from transformers import AutoTokenizer\n",
    "tokenizer = AutoTokenizer.from_pretrained(\"bert-base-cased\")\n",
    "\n",
    "def tokenize_function(examples):\n",
    "    return tokenizer(examples[\"text\"], padding=\"max_length\", truncation=True)\n",
    "\n",
    "tokenized_datasets = dataset.map(tokenize_function, batched=True)"
   ]
  },
  {
   "cell_type": "markdown",
   "id": "7e818eec-8e87-4fc1-a98b-0f7240a1e467",
   "metadata": {},
   "source": [
    "### 设置训练集和测试集"
   ]
  },
  {
   "cell_type": "code",
   "execution_count": 3,
   "id": "d8019bf9-1316-45c3-988e-74dee864a928",
   "metadata": {},
   "outputs": [
    {
     "name": "stdout",
     "output_type": "stream",
     "text": [
      "train: 650000; test: 50000\n"
     ]
    }
   ],
   "source": [
    "train_dataset = tokenized_datasets['train']\n",
    "test_dataset = tokenized_datasets['test']\n",
    "print(f\"train: {len(train_dataset)}; test: {len(test_dataset)}\")"
   ]
  },
  {
   "cell_type": "markdown",
   "id": "b8e19d1e-8b65-4567-8441-d89bcf7f061f",
   "metadata": {},
   "source": [
    "### 设置评估指标"
   ]
  },
  {
   "cell_type": "code",
   "execution_count": 4,
   "id": "51164c04-67f3-42d5-a3a9-a46465422395",
   "metadata": {},
   "outputs": [],
   "source": [
    "# 设置评估指标\n",
    "import numpy as np\n",
    "import evaluate\n",
    "\n",
    "metric = evaluate.load(\"accuracy\")\n",
    "\n",
    "def compute_metrics(eval_pred):\n",
    "    logits, labels = eval_pred\n",
    "    predictions = np.argmax(logits, axis=-1)\n",
    "    return metric.compute(predictions=predictions, references=labels)"
   ]
  },
  {
   "cell_type": "markdown",
   "id": "5d7f77ad-e24d-49b6-b47b-a84823c25d32",
   "metadata": {},
   "source": [
    "### 加载Bert模型"
   ]
  },
  {
   "cell_type": "code",
   "execution_count": 5,
   "id": "c7583cec-a9ce-489a-a32d-2ca5b23748c2",
   "metadata": {},
   "outputs": [
    {
     "name": "stderr",
     "output_type": "stream",
     "text": [
      "/root/miniconda3/envs/peft/lib/python3.10/site-packages/huggingface_hub/file_download.py:1132: FutureWarning: `resume_download` is deprecated and will be removed in version 1.0.0. Downloads always resume when possible. If you want to force a new download, use `force_download=True`.\n",
      "  warnings.warn(\n",
      "Some weights of BertForSequenceClassification were not initialized from the model checkpoint at bert-base-cased and are newly initialized: ['classifier.bias', 'classifier.weight']\n",
      "You should probably TRAIN this model on a down-stream task to be able to use it for predictions and inference.\n"
     ]
    }
   ],
   "source": [
    "# 加载Bert模型\n",
    "from transformers import AutoModelForSequenceClassification\n",
    "model = AutoModelForSequenceClassification.from_pretrained(\"bert-base-cased\", num_labels=5)"
   ]
  },
  {
   "cell_type": "markdown",
   "id": "dbd3369c-2907-40b1-93eb-01d69ff6951c",
   "metadata": {},
   "source": [
    "### 设置训练超参数"
   ]
  },
  {
   "cell_type": "code",
   "execution_count": 6,
   "id": "1ac7240f-1803-405c-b103-e633ebe70cff",
   "metadata": {},
   "outputs": [],
   "source": [
    "# 训练超参数\n",
    "from transformers import TrainingArguments, Trainer\n",
    "\n",
    "model_dir = \"models/bert-base-cased-finetune-yelp-2\"\n",
    "training_args = TrainingArguments(output_dir=model_dir,\n",
    "                                  evaluation_strategy=\"epoch\",\n",
    "                                  per_device_train_batch_size=16,\n",
    "                                  num_train_epochs=3,\n",
    "                                  logging_steps=500,\n",
    "                                  save_total_limit=10\n",
    "                                )"
   ]
  },
  {
   "cell_type": "markdown",
   "id": "7155bd82-e786-4d8b-bb1a-955360d044b9",
   "metadata": {},
   "source": [
    "### 实例化训练器"
   ]
  },
  {
   "cell_type": "code",
   "execution_count": 7,
   "id": "7be90382-5d89-40e5-aff6-68a70ee94c41",
   "metadata": {},
   "outputs": [],
   "source": [
    "# 实例化训练器\n",
    "trainer = Trainer(\n",
    "    model=model,\n",
    "    args=training_args,\n",
    "    train_dataset=train_dataset,\n",
    "    eval_dataset=test_dataset,\n",
    "    compute_metrics=compute_metrics,\n",
    ")"
   ]
  },
  {
   "cell_type": "markdown",
   "id": "ae49adb6-0238-46d9-b7eb-d93e763877cc",
   "metadata": {},
   "source": [
    "### 开始训练"
   ]
  },
  {
   "cell_type": "code",
   "execution_count": 8,
   "id": "5bfdf9e6-5d7c-43db-8b38-9585388fb58c",
   "metadata": {
    "scrolled": true
   },
   "outputs": [
    {
     "data": {
      "text/html": [
       "\n",
       "    <div>\n",
       "      \n",
       "      <progress value='121875' max='121875' style='width:300px; height:20px; vertical-align: middle;'></progress>\n",
       "      [121875/121875 47:33:43, Epoch 3/3]\n",
       "    </div>\n",
       "    <table border=\"1\" class=\"dataframe\">\n",
       "  <thead>\n",
       " <tr style=\"text-align: left;\">\n",
       "      <th>Epoch</th>\n",
       "      <th>Training Loss</th>\n",
       "      <th>Validation Loss</th>\n",
       "      <th>Accuracy</th>\n",
       "    </tr>\n",
       "  </thead>\n",
       "  <tbody>\n",
       "    <tr>\n",
       "      <td>1</td>\n",
       "      <td>0.774200</td>\n",
       "      <td>0.756893</td>\n",
       "      <td>0.671340</td>\n",
       "    </tr>\n",
       "    <tr>\n",
       "      <td>2</td>\n",
       "      <td>0.697000</td>\n",
       "      <td>0.730391</td>\n",
       "      <td>0.684100</td>\n",
       "    </tr>\n",
       "    <tr>\n",
       "      <td>3</td>\n",
       "      <td>0.614300</td>\n",
       "      <td>0.729855</td>\n",
       "      <td>0.691780</td>\n",
       "    </tr>\n",
       "  </tbody>\n",
       "</table><p>"
      ],
      "text/plain": [
       "<IPython.core.display.HTML object>"
      ]
     },
     "metadata": {},
     "output_type": "display_data"
    },
    {
     "data": {
      "text/plain": [
       "TrainOutput(global_step=121875, training_loss=0.7127398907001202, metrics={'train_runtime': 171225.0172, 'train_samples_per_second': 11.389, 'train_steps_per_second': 0.712, 'total_flos': 5.130803778048e+17, 'train_loss': 0.7127398907001202, 'epoch': 3.0})"
      ]
     },
     "execution_count": 8,
     "metadata": {},
     "output_type": "execute_result"
    }
   ],
   "source": [
    "# 开始训练\n",
    "trainer.train()"
   ]
  },
  {
   "cell_type": "markdown",
   "id": "6e6684fc-0220-4eaa-82a5-01a631805018",
   "metadata": {},
   "source": [
    "### 保存模型和训练状态"
   ]
  },
  {
   "cell_type": "code",
   "execution_count": 9,
   "id": "f7cacb15-531a-459d-8235-cdc56491be70",
   "metadata": {},
   "outputs": [],
   "source": [
    "# 保存模型和训练状态\n",
    "trainer.save_model(model_dir)\n",
    "trainer.save_state()"
   ]
  },
  {
   "cell_type": "code",
   "execution_count": 10,
   "id": "7c6d0d50-372d-45cc-af57-70d8356dbdba",
   "metadata": {},
   "outputs": [
    {
     "data": {
      "text/html": [
       "\n",
       "    <div>\n",
       "      \n",
       "      <progress value='6250' max='6250' style='width:300px; height:20px; vertical-align: middle;'></progress>\n",
       "      [6250/6250 25:07]\n",
       "    </div>\n",
       "    "
      ],
      "text/plain": [
       "<IPython.core.display.HTML object>"
      ]
     },
     "metadata": {},
     "output_type": "display_data"
    },
    {
     "data": {
      "text/plain": [
       "{'eval_loss': 0.7298545241355896,\n",
       " 'eval_accuracy': 0.69178,\n",
       " 'eval_runtime': 1508.2696,\n",
       " 'eval_samples_per_second': 33.151,\n",
       " 'eval_steps_per_second': 4.144,\n",
       " 'epoch': 3.0}"
      ]
     },
     "execution_count": 10,
     "metadata": {},
     "output_type": "execute_result"
    }
   ],
   "source": [
    "trainer.evaluate(test_dataset)"
   ]
  }
 ],
 "metadata": {
  "kernelspec": {
   "display_name": "Python 3 (ipykernel)",
   "language": "python",
   "name": "python3"
  },
  "language_info": {
   "codemirror_mode": {
    "name": "ipython",
    "version": 3
   },
   "file_extension": ".py",
   "mimetype": "text/x-python",
   "name": "python",
   "nbconvert_exporter": "python",
   "pygments_lexer": "ipython3",
   "version": "3.10.14"
  }
 },
 "nbformat": 4,
 "nbformat_minor": 5
}
